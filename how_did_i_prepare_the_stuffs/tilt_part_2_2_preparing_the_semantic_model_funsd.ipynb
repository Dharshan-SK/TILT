{
  "nbformat": 4,
  "nbformat_minor": 0,
  "metadata": {
    "colab": {
      "provenance": [],
      "authorship_tag": "ABX9TyOiUHUCt8WLV7GRmPhBnAZk",
      "include_colab_link": true
    },
    "kernelspec": {
      "name": "python3",
      "display_name": "Python 3"
    },
    "language_info": {
      "name": "python"
    },
    "accelerator": "GPU",
    "gpuClass": "standard",
    "widgets": {
      "application/vnd.jupyter.widget-state+json": {
        "30b91b7ce9c440b3983396f279333d8a": {
          "model_module": "@jupyter-widgets/controls",
          "model_name": "HBoxModel",
          "model_module_version": "1.5.0",
          "state": {
            "_dom_classes": [],
            "_model_module": "@jupyter-widgets/controls",
            "_model_module_version": "1.5.0",
            "_model_name": "HBoxModel",
            "_view_count": null,
            "_view_module": "@jupyter-widgets/controls",
            "_view_module_version": "1.5.0",
            "_view_name": "HBoxView",
            "box_style": "",
            "children": [
              "IPY_MODEL_590c899a58ab41e3ac65dbc454c1f23f",
              "IPY_MODEL_4347d130e30b47978ca3d7d81a413952",
              "IPY_MODEL_e1b4e126b58c4f14bfce2b079d46a7ac"
            ],
            "layout": "IPY_MODEL_e96e0d5d5d3c460681da67b91f8c2c68"
          }
        },
        "590c899a58ab41e3ac65dbc454c1f23f": {
          "model_module": "@jupyter-widgets/controls",
          "model_name": "HTMLModel",
          "model_module_version": "1.5.0",
          "state": {
            "_dom_classes": [],
            "_model_module": "@jupyter-widgets/controls",
            "_model_module_version": "1.5.0",
            "_model_name": "HTMLModel",
            "_view_count": null,
            "_view_module": "@jupyter-widgets/controls",
            "_view_module_version": "1.5.0",
            "_view_name": "HTMLView",
            "description": "",
            "description_tooltip": null,
            "layout": "IPY_MODEL_da07122f52c345079e2e9cffa7659b2c",
            "placeholder": "​",
            "style": "IPY_MODEL_f42c7556a4694f24b9fab78703bd5fbd",
            "value": "Downloading (…)lve/main/config.json: 100%"
          }
        },
        "4347d130e30b47978ca3d7d81a413952": {
          "model_module": "@jupyter-widgets/controls",
          "model_name": "FloatProgressModel",
          "model_module_version": "1.5.0",
          "state": {
            "_dom_classes": [],
            "_model_module": "@jupyter-widgets/controls",
            "_model_module_version": "1.5.0",
            "_model_name": "FloatProgressModel",
            "_view_count": null,
            "_view_module": "@jupyter-widgets/controls",
            "_view_module_version": "1.5.0",
            "_view_name": "ProgressView",
            "bar_style": "success",
            "description": "",
            "description_tooltip": null,
            "layout": "IPY_MODEL_e09b31a6c38d408b853aa9c7ea3ccc35",
            "max": 1208,
            "min": 0,
            "orientation": "horizontal",
            "style": "IPY_MODEL_f8427aa33fe5425684560db94e2ab801",
            "value": 1208
          }
        },
        "e1b4e126b58c4f14bfce2b079d46a7ac": {
          "model_module": "@jupyter-widgets/controls",
          "model_name": "HTMLModel",
          "model_module_version": "1.5.0",
          "state": {
            "_dom_classes": [],
            "_model_module": "@jupyter-widgets/controls",
            "_model_module_version": "1.5.0",
            "_model_name": "HTMLModel",
            "_view_count": null,
            "_view_module": "@jupyter-widgets/controls",
            "_view_module_version": "1.5.0",
            "_view_name": "HTMLView",
            "description": "",
            "description_tooltip": null,
            "layout": "IPY_MODEL_09d778aa92f744c593cb284518248988",
            "placeholder": "​",
            "style": "IPY_MODEL_3f89f7b7b4a947acaf14e1241c60f1f4",
            "value": " 1.21k/1.21k [00:00&lt;00:00, 49.8kB/s]"
          }
        },
        "e96e0d5d5d3c460681da67b91f8c2c68": {
          "model_module": "@jupyter-widgets/base",
          "model_name": "LayoutModel",
          "model_module_version": "1.2.0",
          "state": {
            "_model_module": "@jupyter-widgets/base",
            "_model_module_version": "1.2.0",
            "_model_name": "LayoutModel",
            "_view_count": null,
            "_view_module": "@jupyter-widgets/base",
            "_view_module_version": "1.2.0",
            "_view_name": "LayoutView",
            "align_content": null,
            "align_items": null,
            "align_self": null,
            "border": null,
            "bottom": null,
            "display": null,
            "flex": null,
            "flex_flow": null,
            "grid_area": null,
            "grid_auto_columns": null,
            "grid_auto_flow": null,
            "grid_auto_rows": null,
            "grid_column": null,
            "grid_gap": null,
            "grid_row": null,
            "grid_template_areas": null,
            "grid_template_columns": null,
            "grid_template_rows": null,
            "height": null,
            "justify_content": null,
            "justify_items": null,
            "left": null,
            "margin": null,
            "max_height": null,
            "max_width": null,
            "min_height": null,
            "min_width": null,
            "object_fit": null,
            "object_position": null,
            "order": null,
            "overflow": null,
            "overflow_x": null,
            "overflow_y": null,
            "padding": null,
            "right": null,
            "top": null,
            "visibility": null,
            "width": null
          }
        },
        "da07122f52c345079e2e9cffa7659b2c": {
          "model_module": "@jupyter-widgets/base",
          "model_name": "LayoutModel",
          "model_module_version": "1.2.0",
          "state": {
            "_model_module": "@jupyter-widgets/base",
            "_model_module_version": "1.2.0",
            "_model_name": "LayoutModel",
            "_view_count": null,
            "_view_module": "@jupyter-widgets/base",
            "_view_module_version": "1.2.0",
            "_view_name": "LayoutView",
            "align_content": null,
            "align_items": null,
            "align_self": null,
            "border": null,
            "bottom": null,
            "display": null,
            "flex": null,
            "flex_flow": null,
            "grid_area": null,
            "grid_auto_columns": null,
            "grid_auto_flow": null,
            "grid_auto_rows": null,
            "grid_column": null,
            "grid_gap": null,
            "grid_row": null,
            "grid_template_areas": null,
            "grid_template_columns": null,
            "grid_template_rows": null,
            "height": null,
            "justify_content": null,
            "justify_items": null,
            "left": null,
            "margin": null,
            "max_height": null,
            "max_width": null,
            "min_height": null,
            "min_width": null,
            "object_fit": null,
            "object_position": null,
            "order": null,
            "overflow": null,
            "overflow_x": null,
            "overflow_y": null,
            "padding": null,
            "right": null,
            "top": null,
            "visibility": null,
            "width": null
          }
        },
        "f42c7556a4694f24b9fab78703bd5fbd": {
          "model_module": "@jupyter-widgets/controls",
          "model_name": "DescriptionStyleModel",
          "model_module_version": "1.5.0",
          "state": {
            "_model_module": "@jupyter-widgets/controls",
            "_model_module_version": "1.5.0",
            "_model_name": "DescriptionStyleModel",
            "_view_count": null,
            "_view_module": "@jupyter-widgets/base",
            "_view_module_version": "1.2.0",
            "_view_name": "StyleView",
            "description_width": ""
          }
        },
        "e09b31a6c38d408b853aa9c7ea3ccc35": {
          "model_module": "@jupyter-widgets/base",
          "model_name": "LayoutModel",
          "model_module_version": "1.2.0",
          "state": {
            "_model_module": "@jupyter-widgets/base",
            "_model_module_version": "1.2.0",
            "_model_name": "LayoutModel",
            "_view_count": null,
            "_view_module": "@jupyter-widgets/base",
            "_view_module_version": "1.2.0",
            "_view_name": "LayoutView",
            "align_content": null,
            "align_items": null,
            "align_self": null,
            "border": null,
            "bottom": null,
            "display": null,
            "flex": null,
            "flex_flow": null,
            "grid_area": null,
            "grid_auto_columns": null,
            "grid_auto_flow": null,
            "grid_auto_rows": null,
            "grid_column": null,
            "grid_gap": null,
            "grid_row": null,
            "grid_template_areas": null,
            "grid_template_columns": null,
            "grid_template_rows": null,
            "height": null,
            "justify_content": null,
            "justify_items": null,
            "left": null,
            "margin": null,
            "max_height": null,
            "max_width": null,
            "min_height": null,
            "min_width": null,
            "object_fit": null,
            "object_position": null,
            "order": null,
            "overflow": null,
            "overflow_x": null,
            "overflow_y": null,
            "padding": null,
            "right": null,
            "top": null,
            "visibility": null,
            "width": null
          }
        },
        "f8427aa33fe5425684560db94e2ab801": {
          "model_module": "@jupyter-widgets/controls",
          "model_name": "ProgressStyleModel",
          "model_module_version": "1.5.0",
          "state": {
            "_model_module": "@jupyter-widgets/controls",
            "_model_module_version": "1.5.0",
            "_model_name": "ProgressStyleModel",
            "_view_count": null,
            "_view_module": "@jupyter-widgets/base",
            "_view_module_version": "1.2.0",
            "_view_name": "StyleView",
            "bar_color": null,
            "description_width": ""
          }
        },
        "09d778aa92f744c593cb284518248988": {
          "model_module": "@jupyter-widgets/base",
          "model_name": "LayoutModel",
          "model_module_version": "1.2.0",
          "state": {
            "_model_module": "@jupyter-widgets/base",
            "_model_module_version": "1.2.0",
            "_model_name": "LayoutModel",
            "_view_count": null,
            "_view_module": "@jupyter-widgets/base",
            "_view_module_version": "1.2.0",
            "_view_name": "LayoutView",
            "align_content": null,
            "align_items": null,
            "align_self": null,
            "border": null,
            "bottom": null,
            "display": null,
            "flex": null,
            "flex_flow": null,
            "grid_area": null,
            "grid_auto_columns": null,
            "grid_auto_flow": null,
            "grid_auto_rows": null,
            "grid_column": null,
            "grid_gap": null,
            "grid_row": null,
            "grid_template_areas": null,
            "grid_template_columns": null,
            "grid_template_rows": null,
            "height": null,
            "justify_content": null,
            "justify_items": null,
            "left": null,
            "margin": null,
            "max_height": null,
            "max_width": null,
            "min_height": null,
            "min_width": null,
            "object_fit": null,
            "object_position": null,
            "order": null,
            "overflow": null,
            "overflow_x": null,
            "overflow_y": null,
            "padding": null,
            "right": null,
            "top": null,
            "visibility": null,
            "width": null
          }
        },
        "3f89f7b7b4a947acaf14e1241c60f1f4": {
          "model_module": "@jupyter-widgets/controls",
          "model_name": "DescriptionStyleModel",
          "model_module_version": "1.5.0",
          "state": {
            "_model_module": "@jupyter-widgets/controls",
            "_model_module_version": "1.5.0",
            "_model_name": "DescriptionStyleModel",
            "_view_count": null,
            "_view_module": "@jupyter-widgets/base",
            "_view_module_version": "1.2.0",
            "_view_name": "StyleView",
            "description_width": ""
          }
        },
        "c158fe986c79415fa245daa9ac3936f8": {
          "model_module": "@jupyter-widgets/controls",
          "model_name": "HBoxModel",
          "model_module_version": "1.5.0",
          "state": {
            "_dom_classes": [],
            "_model_module": "@jupyter-widgets/controls",
            "_model_module_version": "1.5.0",
            "_model_name": "HBoxModel",
            "_view_count": null,
            "_view_module": "@jupyter-widgets/controls",
            "_view_module_version": "1.5.0",
            "_view_name": "HBoxView",
            "box_style": "",
            "children": [
              "IPY_MODEL_ad9f63f8ee4b44a69b1563d9fc184f72",
              "IPY_MODEL_96bc76975e104681a4923eb23aa5a392",
              "IPY_MODEL_a32166d2881a4f398ab96ca0ee1a1442"
            ],
            "layout": "IPY_MODEL_5a178d94f24c4f189f60d93137f51750"
          }
        },
        "ad9f63f8ee4b44a69b1563d9fc184f72": {
          "model_module": "@jupyter-widgets/controls",
          "model_name": "HTMLModel",
          "model_module_version": "1.5.0",
          "state": {
            "_dom_classes": [],
            "_model_module": "@jupyter-widgets/controls",
            "_model_module_version": "1.5.0",
            "_model_name": "HTMLModel",
            "_view_count": null,
            "_view_module": "@jupyter-widgets/controls",
            "_view_module_version": "1.5.0",
            "_view_name": "HTMLView",
            "description": "",
            "description_tooltip": null,
            "layout": "IPY_MODEL_ff392e292bbb48659f66f9bfc9d99f53",
            "placeholder": "​",
            "style": "IPY_MODEL_3342ed2aeec04b9aacd5fc46084de2c8",
            "value": "Downloading pytorch_model.bin: 100%"
          }
        },
        "96bc76975e104681a4923eb23aa5a392": {
          "model_module": "@jupyter-widgets/controls",
          "model_name": "FloatProgressModel",
          "model_module_version": "1.5.0",
          "state": {
            "_dom_classes": [],
            "_model_module": "@jupyter-widgets/controls",
            "_model_module_version": "1.5.0",
            "_model_name": "FloatProgressModel",
            "_view_count": null,
            "_view_module": "@jupyter-widgets/controls",
            "_view_module_version": "1.5.0",
            "_view_name": "ProgressView",
            "bar_style": "success",
            "description": "",
            "description_tooltip": null,
            "layout": "IPY_MODEL_251a05b7b6b445efb3801e4e449463db",
            "max": 891691430,
            "min": 0,
            "orientation": "horizontal",
            "style": "IPY_MODEL_555405d2a9f448b18c22b8f7b7789fd1",
            "value": 891691430
          }
        },
        "a32166d2881a4f398ab96ca0ee1a1442": {
          "model_module": "@jupyter-widgets/controls",
          "model_name": "HTMLModel",
          "model_module_version": "1.5.0",
          "state": {
            "_dom_classes": [],
            "_model_module": "@jupyter-widgets/controls",
            "_model_module_version": "1.5.0",
            "_model_name": "HTMLModel",
            "_view_count": null,
            "_view_module": "@jupyter-widgets/controls",
            "_view_module_version": "1.5.0",
            "_view_name": "HTMLView",
            "description": "",
            "description_tooltip": null,
            "layout": "IPY_MODEL_5f48bca4113541d0ba4304768bad3a23",
            "placeholder": "​",
            "style": "IPY_MODEL_2f9a86bdeb514042a05cb026ac2d63e5",
            "value": " 892M/892M [00:09&lt;00:00, 98.5MB/s]"
          }
        },
        "5a178d94f24c4f189f60d93137f51750": {
          "model_module": "@jupyter-widgets/base",
          "model_name": "LayoutModel",
          "model_module_version": "1.2.0",
          "state": {
            "_model_module": "@jupyter-widgets/base",
            "_model_module_version": "1.2.0",
            "_model_name": "LayoutModel",
            "_view_count": null,
            "_view_module": "@jupyter-widgets/base",
            "_view_module_version": "1.2.0",
            "_view_name": "LayoutView",
            "align_content": null,
            "align_items": null,
            "align_self": null,
            "border": null,
            "bottom": null,
            "display": null,
            "flex": null,
            "flex_flow": null,
            "grid_area": null,
            "grid_auto_columns": null,
            "grid_auto_flow": null,
            "grid_auto_rows": null,
            "grid_column": null,
            "grid_gap": null,
            "grid_row": null,
            "grid_template_areas": null,
            "grid_template_columns": null,
            "grid_template_rows": null,
            "height": null,
            "justify_content": null,
            "justify_items": null,
            "left": null,
            "margin": null,
            "max_height": null,
            "max_width": null,
            "min_height": null,
            "min_width": null,
            "object_fit": null,
            "object_position": null,
            "order": null,
            "overflow": null,
            "overflow_x": null,
            "overflow_y": null,
            "padding": null,
            "right": null,
            "top": null,
            "visibility": null,
            "width": null
          }
        },
        "ff392e292bbb48659f66f9bfc9d99f53": {
          "model_module": "@jupyter-widgets/base",
          "model_name": "LayoutModel",
          "model_module_version": "1.2.0",
          "state": {
            "_model_module": "@jupyter-widgets/base",
            "_model_module_version": "1.2.0",
            "_model_name": "LayoutModel",
            "_view_count": null,
            "_view_module": "@jupyter-widgets/base",
            "_view_module_version": "1.2.0",
            "_view_name": "LayoutView",
            "align_content": null,
            "align_items": null,
            "align_self": null,
            "border": null,
            "bottom": null,
            "display": null,
            "flex": null,
            "flex_flow": null,
            "grid_area": null,
            "grid_auto_columns": null,
            "grid_auto_flow": null,
            "grid_auto_rows": null,
            "grid_column": null,
            "grid_gap": null,
            "grid_row": null,
            "grid_template_areas": null,
            "grid_template_columns": null,
            "grid_template_rows": null,
            "height": null,
            "justify_content": null,
            "justify_items": null,
            "left": null,
            "margin": null,
            "max_height": null,
            "max_width": null,
            "min_height": null,
            "min_width": null,
            "object_fit": null,
            "object_position": null,
            "order": null,
            "overflow": null,
            "overflow_x": null,
            "overflow_y": null,
            "padding": null,
            "right": null,
            "top": null,
            "visibility": null,
            "width": null
          }
        },
        "3342ed2aeec04b9aacd5fc46084de2c8": {
          "model_module": "@jupyter-widgets/controls",
          "model_name": "DescriptionStyleModel",
          "model_module_version": "1.5.0",
          "state": {
            "_model_module": "@jupyter-widgets/controls",
            "_model_module_version": "1.5.0",
            "_model_name": "DescriptionStyleModel",
            "_view_count": null,
            "_view_module": "@jupyter-widgets/base",
            "_view_module_version": "1.2.0",
            "_view_name": "StyleView",
            "description_width": ""
          }
        },
        "251a05b7b6b445efb3801e4e449463db": {
          "model_module": "@jupyter-widgets/base",
          "model_name": "LayoutModel",
          "model_module_version": "1.2.0",
          "state": {
            "_model_module": "@jupyter-widgets/base",
            "_model_module_version": "1.2.0",
            "_model_name": "LayoutModel",
            "_view_count": null,
            "_view_module": "@jupyter-widgets/base",
            "_view_module_version": "1.2.0",
            "_view_name": "LayoutView",
            "align_content": null,
            "align_items": null,
            "align_self": null,
            "border": null,
            "bottom": null,
            "display": null,
            "flex": null,
            "flex_flow": null,
            "grid_area": null,
            "grid_auto_columns": null,
            "grid_auto_flow": null,
            "grid_auto_rows": null,
            "grid_column": null,
            "grid_gap": null,
            "grid_row": null,
            "grid_template_areas": null,
            "grid_template_columns": null,
            "grid_template_rows": null,
            "height": null,
            "justify_content": null,
            "justify_items": null,
            "left": null,
            "margin": null,
            "max_height": null,
            "max_width": null,
            "min_height": null,
            "min_width": null,
            "object_fit": null,
            "object_position": null,
            "order": null,
            "overflow": null,
            "overflow_x": null,
            "overflow_y": null,
            "padding": null,
            "right": null,
            "top": null,
            "visibility": null,
            "width": null
          }
        },
        "555405d2a9f448b18c22b8f7b7789fd1": {
          "model_module": "@jupyter-widgets/controls",
          "model_name": "ProgressStyleModel",
          "model_module_version": "1.5.0",
          "state": {
            "_model_module": "@jupyter-widgets/controls",
            "_model_module_version": "1.5.0",
            "_model_name": "ProgressStyleModel",
            "_view_count": null,
            "_view_module": "@jupyter-widgets/base",
            "_view_module_version": "1.2.0",
            "_view_name": "StyleView",
            "bar_color": null,
            "description_width": ""
          }
        },
        "5f48bca4113541d0ba4304768bad3a23": {
          "model_module": "@jupyter-widgets/base",
          "model_name": "LayoutModel",
          "model_module_version": "1.2.0",
          "state": {
            "_model_module": "@jupyter-widgets/base",
            "_model_module_version": "1.2.0",
            "_model_name": "LayoutModel",
            "_view_count": null,
            "_view_module": "@jupyter-widgets/base",
            "_view_module_version": "1.2.0",
            "_view_name": "LayoutView",
            "align_content": null,
            "align_items": null,
            "align_self": null,
            "border": null,
            "bottom": null,
            "display": null,
            "flex": null,
            "flex_flow": null,
            "grid_area": null,
            "grid_auto_columns": null,
            "grid_auto_flow": null,
            "grid_auto_rows": null,
            "grid_column": null,
            "grid_gap": null,
            "grid_row": null,
            "grid_template_areas": null,
            "grid_template_columns": null,
            "grid_template_rows": null,
            "height": null,
            "justify_content": null,
            "justify_items": null,
            "left": null,
            "margin": null,
            "max_height": null,
            "max_width": null,
            "min_height": null,
            "min_width": null,
            "object_fit": null,
            "object_position": null,
            "order": null,
            "overflow": null,
            "overflow_x": null,
            "overflow_y": null,
            "padding": null,
            "right": null,
            "top": null,
            "visibility": null,
            "width": null
          }
        },
        "2f9a86bdeb514042a05cb026ac2d63e5": {
          "model_module": "@jupyter-widgets/controls",
          "model_name": "DescriptionStyleModel",
          "model_module_version": "1.5.0",
          "state": {
            "_model_module": "@jupyter-widgets/controls",
            "_model_module_version": "1.5.0",
            "_model_name": "DescriptionStyleModel",
            "_view_count": null,
            "_view_module": "@jupyter-widgets/base",
            "_view_module_version": "1.2.0",
            "_view_name": "StyleView",
            "description_width": ""
          }
        }
      }
    }
  },
  "cells": [
    {
      "cell_type": "markdown",
      "metadata": {
        "id": "view-in-github",
        "colab_type": "text"
      },
      "source": [
        "<a href=\"https://colab.research.google.com/github/uakarsh/TiLT-Implementation/blob/main/how_did_i_prepare_the_stuffs/tilt_part_2_2_preparing_the_semantic_model_funsd.ipynb\" target=\"_parent\"><img src=\"https://colab.research.google.com/assets/colab-badge.svg\" alt=\"Open In Colab\"/></a>"
      ]
    },
    {
      "cell_type": "markdown",
      "source": [
        "![image.png](data:image/png;base64,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)"
      ],
      "metadata": {
        "id": "mnSGoV6tVKy_"
      }
    },
    {
      "cell_type": "markdown",
      "source": [
        "## How to formulate the above part?\n",
        "\n",
        "\n",
        "\n",
        "#### Rough Code:\n",
        "\n",
        "For calculation, use this function : [calculate_relative_bias](https://github.com/huggingface/transformers/blob/ae54e3c3b18bac0832ad62ea9b896dfd52a09850/src/transformers/models/t5/modeling_t5.py#L381)\n",
        "\n",
        "1. For B_1d, follow the standard procedure, i.e `torch.arange(seq_len)[:, None] - torch.arange(seq_len)[None, :]`, and then pass it through the `calculate_relative_bias` function\n",
        "\n",
        "For 2. and 3. refer chatgpt's answer and below\n",
        "\n",
        "<!-- 2. For B_h, take the `x_mid` of `bbox_1, bbox_2`, subtract the two, in the same way that has been done above, and then pass it through the `calculate_relative_bias` function\n",
        "\n",
        "3. Similarily for B_w, take the `y_mid` of `bbox_1, bbox_2`, subtract the two, in the same way that has been done above, and then pass it through the `calculate_relative_bias` function -->"
      ],
      "metadata": {
        "id": "bGbs3PWIVMqd"
      }
    },
    {
      "cell_type": "code",
      "source": [
        "!pip install -qqq transformers"
      ],
      "metadata": {
        "id": "f24YuciEH1Rd",
        "colab": {
          "base_uri": "https://localhost:8080/"
        },
        "outputId": "15650a50-6091-4c6c-e1b2-32ce11df6884"
      },
      "execution_count": null,
      "outputs": [
        {
          "output_type": "stream",
          "name": "stdout",
          "text": [
            "\u001b[2K     \u001b[90m━━━━━━━━━━━━━━━━━━━━━━━━━━━━━━━━━━━━━━━━\u001b[0m \u001b[32m6.8/6.8 MB\u001b[0m \u001b[31m41.3 MB/s\u001b[0m eta \u001b[36m0:00:00\u001b[0m\n",
            "\u001b[2K     \u001b[90m━━━━━━━━━━━━━━━━━━━━━━━━━━━━━━━━━━━━━━━\u001b[0m \u001b[32m200.1/200.1 KB\u001b[0m \u001b[31m9.5 MB/s\u001b[0m eta \u001b[36m0:00:00\u001b[0m\n",
            "\u001b[2K     \u001b[90m━━━━━━━━━━━━━━━━━━━━━━━━━━━━━━━━━━━━━━━━\u001b[0m \u001b[32m7.8/7.8 MB\u001b[0m \u001b[31m63.4 MB/s\u001b[0m eta \u001b[36m0:00:00\u001b[0m\n",
            "\u001b[?25h"
          ]
        }
      ]
    },
    {
      "cell_type": "code",
      "execution_count": null,
      "metadata": {
        "id": "mE4NIP9nVCyn"
      },
      "outputs": [],
      "source": [
        "# import math\n",
        "# import torch\n",
        "# import torch.nn as nn"
      ]
    },
    {
      "cell_type": "code",
      "source": [
        "# def _relative_position_bucket(relative_position, bidirectional=False, num_buckets=32, max_distance=128):\n",
        "#         \"\"\"\n",
        "#         Adapted from Mesh Tensorflow:\n",
        "#         https://github.com/tensorflow/mesh/blob/0cb87fe07da627bf0b7e60475d59f95ed6b5be3d/mesh_tensorflow/transformer/transformer_layers.py#L593\n",
        "#         Translate relative position to a bucket number for relative attention. The relative position is defined as\n",
        "#         memory_position - query_position, i.e. the distance in tokens from the attending position to the attended-to\n",
        "#         position. If bidirectional=False, then positive relative positions are invalid. We use smaller buckets for\n",
        "#         small absolute relative_position and larger buckets for larger absolute relative_positions. All relative\n",
        "#         positions >=max_distance map to the same bucket. All relative positions <=-max_distance map to the same bucket.\n",
        "#         This should allow for more graceful generalization to longer sequences than the model has been trained on\n",
        "#         Args:\n",
        "#             relative_position: an int32 Tensor\n",
        "#             bidirectional: a boolean - whether the attention is bidirectional\n",
        "#             num_buckets: an integer\n",
        "#             max_distance: an integer\n",
        "#         Returns:\n",
        "#             a Tensor with the same shape as relative_position, containing int32 values in the range [0, num_buckets)\n",
        "#         \"\"\"\n",
        "#         relative_buckets = 0\n",
        "#         if bidirectional:\n",
        "#             num_buckets //= 2\n",
        "#             relative_buckets += (relative_position > 0).to(torch.long) * num_buckets\n",
        "#             relative_position = torch.abs(relative_position)\n",
        "#         else:\n",
        "#             relative_position = -torch.min(relative_position, torch.zeros_like(relative_position))\n",
        "#         # now relative_position is in the range [0, inf)\n",
        "\n",
        "#         # half of the buckets are for exact increments in positions\n",
        "#         max_exact = num_buckets // 2\n",
        "#         is_small = relative_position < max_exact\n",
        "\n",
        "#         # The other half of the buckets are for logarithmically bigger bins in positions up to max_distance\n",
        "#         relative_position_if_large = max_exact + (\n",
        "#             torch.log(relative_position.float() / max_exact)\n",
        "#             / math.log(max_distance / max_exact)\n",
        "#             * (num_buckets - max_exact)\n",
        "#         ).to(torch.long)\n",
        "#         relative_position_if_large = torch.min(\n",
        "#             relative_position_if_large, torch.full_like(relative_position_if_large, num_buckets - 1)\n",
        "#         )\n",
        "\n",
        "#         relative_buckets += torch.where(is_small, relative_position, relative_position_if_large)\n",
        "#         return relative_buckets"
      ],
      "metadata": {
        "id": "-rgFGRcV9PQd"
      },
      "execution_count": null,
      "outputs": []
    },
    {
      "cell_type": "code",
      "source": [
        "# relative_attention_bias = nn.Embedding(32, 8)\n",
        "# relative_horizontal_bias = nn.Embedding(32, 8)\n",
        "# relative_vertical_bias = nn.Embedding(32, 8)\n",
        "\n",
        "# total_buckets = 32\n",
        "# denominator_to_divide = 512 // 32"
      ],
      "metadata": {
        "id": "zJTRi16V9sbI"
      },
      "execution_count": null,
      "outputs": []
    },
    {
      "cell_type": "code",
      "source": [
        "# def compute_bias_1d(query_length:int = 512, key_length:int = 512, device=None):\n",
        "#         \"\"\"Compute binned relative position bias\"\"\"\n",
        "#         if device is None:\n",
        "#             device = \"cpu\"\n",
        "#         context_position = torch.arange(query_length, dtype=torch.long, device=device)[:, None]\n",
        "#         memory_position = torch.arange(key_length, dtype=torch.long, device=device)[None, :]\n",
        "#         relative_position = memory_position - context_position  # shape (query_length, key_length)\n",
        "#         relative_position_bucket = _relative_position_bucket(\n",
        "#             relative_position,  # shape (query_length, key_length)\n",
        "#             bidirectional=False,\n",
        "#             num_buckets=32,\n",
        "#             max_distance=128,\n",
        "#         )\n",
        "#         values = relative_attention_bias(relative_position_bucket)  # shape (query_length, key_length, num_heads)\n",
        "#         values = values.permute([2, 0, 1]).unsqueeze(0)  # shape (1, num_heads, query_length, key_length)\n",
        "#         return values\n",
        "\n",
        "\n",
        "# def compute_vertical_horizontal_bias(total_boxes:int = 512, device=None):\n",
        "\n",
        "#       \"\"\"Compute the vertical and horizontal bias\"\"\"\n",
        "#       if device is None:\n",
        "#             device = \"cpu\"\n",
        "#       indices = torch.arange(total_boxes, dtype = torch.long, device = device)\n",
        "#       h_distances = (indices % total_buckets)[:, None] - (indices % total_buckets)[None, :]\n",
        "#       v_distances = (indices // denominator_to_divide)[:, None] - (indices // denominator_to_divide)[None, :]\n",
        "\n",
        "#       h_distances_bucket = _relative_position_bucket(\n",
        "#             h_distances,  # shape (query_length, key_length)\n",
        "#             bidirectional=False,\n",
        "#             num_buckets=32,\n",
        "#             max_distance=128,\n",
        "#         )\n",
        "      \n",
        "\n",
        "#       v_distances_bucket = _relative_position_bucket(\n",
        "#             v_distances,  # shape (query_length, key_length)\n",
        "#             bidirectional=False,\n",
        "#             num_buckets=32,\n",
        "#             max_distance=128,\n",
        "#         )\n",
        "      \n",
        "#       h_distances_values = relative_horizontal_bias(h_distances_bucket)  # shape (query_length, key_length, num_heads)\n",
        "#       h_distances_values = h_distances_values.permute([2, 0, 1]).unsqueeze(0)  # shape (1, num_heads, query_length, key_length)\n",
        "\n",
        "#       v_distances_values = relative_vertical_bias(v_distances_bucket)  # shape (query_length, key_length, num_heads)\n",
        "#       v_distances_values = v_distances_values.permute([2, 0, 1]).unsqueeze(0)  # shape (1, num_heads, query_length, key_length)\n",
        "\n",
        "#       return h_distances_values, v_distances_values"
      ],
      "metadata": {
        "id": "5k31FgdY9YJd"
      },
      "execution_count": null,
      "outputs": []
    },
    {
      "cell_type": "code",
      "source": [
        "# bias_1d = compute_bias_1d()\n",
        "# h_distances_values, v_distances_values = compute_vertical_horizontal_bias()"
      ],
      "metadata": {
        "id": "0_vXNDwu_hR4"
      },
      "execution_count": null,
      "outputs": []
    },
    {
      "cell_type": "code",
      "source": [
        "# bias_1d.shape, h_distances_values.shape, v_distances_values.shape"
      ],
      "metadata": {
        "id": "EWEGFe8Y_ozD"
      },
      "execution_count": null,
      "outputs": []
    },
    {
      "cell_type": "markdown",
      "source": [
        "## Actual Code starts"
      ],
      "metadata": {
        "id": "Ncc-Q5jOAaxx"
      }
    },
    {
      "cell_type": "markdown",
      "source": [
        "### 1. T5 LayerNorm"
      ],
      "metadata": {
        "id": "L4nz0oQ7G8V6"
      }
    },
    {
      "cell_type": "code",
      "source": [
        "from transformers import AutoConfig\n",
        "t5_config = AutoConfig.from_pretrained(\"t5-base\")\n",
        "t5_config.use_cache = False "
      ],
      "metadata": {
        "id": "2HP474leJUOJ",
        "colab": {
          "base_uri": "https://localhost:8080/",
          "height": 49,
          "referenced_widgets": [
            "30b91b7ce9c440b3983396f279333d8a",
            "590c899a58ab41e3ac65dbc454c1f23f",
            "4347d130e30b47978ca3d7d81a413952",
            "e1b4e126b58c4f14bfce2b079d46a7ac",
            "e96e0d5d5d3c460681da67b91f8c2c68",
            "da07122f52c345079e2e9cffa7659b2c",
            "f42c7556a4694f24b9fab78703bd5fbd",
            "e09b31a6c38d408b853aa9c7ea3ccc35",
            "f8427aa33fe5425684560db94e2ab801",
            "09d778aa92f744c593cb284518248988",
            "3f89f7b7b4a947acaf14e1241c60f1f4"
          ]
        },
        "outputId": "63c31fe1-6b0f-4822-b8a5-80d4b66d6ab2"
      },
      "execution_count": null,
      "outputs": [
        {
          "output_type": "display_data",
          "data": {
            "text/plain": [
              "Downloading (…)lve/main/config.json:   0%|          | 0.00/1.21k [00:00<?, ?B/s]"
            ],
            "application/vnd.jupyter.widget-view+json": {
              "version_major": 2,
              "version_minor": 0,
              "model_id": "30b91b7ce9c440b3983396f279333d8a"
            }
          },
          "metadata": {}
        }
      ]
    },
    {
      "cell_type": "code",
      "source": [
        "import torch\n",
        "import torch.nn as nn\n",
        "import math"
      ],
      "metadata": {
        "id": "TxOTnX3lHA1A"
      },
      "execution_count": null,
      "outputs": []
    },
    {
      "cell_type": "code",
      "source": [
        "device = \"cuda\" if torch.cuda.is_available() else \"cpu\"\n",
        "hidden_size = 768\n",
        "random_numbers = torch.randn(1, 512, hidden_size).to(device)"
      ],
      "metadata": {
        "id": "YGXw8i2-Jbmy"
      },
      "execution_count": null,
      "outputs": []
    },
    {
      "cell_type": "code",
      "source": [
        "class T5LayerNorm(nn.Module):\n",
        "    def __init__(self, hidden_size, eps = 1e-6):\n",
        "        \"\"\"\n",
        "        Construct a layernorm module in the T5 Style. No bias and no subtraction of mean.\n",
        "        \"\"\"\n",
        "        super().__init__()\n",
        "        self.weight = nn.Parameter(torch.ones(hidden_size))\n",
        "        self.variance_epsilon = eps\n",
        "\n",
        "    def forward(self, hidden_states):\n",
        "\n",
        "        # T5 uses a layer_norm which only scales and doesn't shift, which is also known as Root Mean\n",
        "        # Square Layer Normalization https://arxiv.org/abs/1910.07467 thus varience is calculated\n",
        "        # w/o mean and there is no bias. Additionally we want to make sure that the accumulation for\n",
        "        # half-precision inputs is done in fp32\n",
        "\n",
        "        variance = hidden_states.to(torch.float32).pow(2).mean(-1, keepdim = True)\n",
        "        hidden_states = hidden_states * torch.rsqrt(variance + self.variance_epsilon)\n",
        "\n",
        "        # convert into half-precision if necessary\n",
        "        if self.weight.dtype in [torch.float16, torch.bfloat16]:\n",
        "            hidden_states = hidden_states.to(self.weight.dtype)\n",
        "\n",
        "        return self.weight * hidden_states"
      ],
      "metadata": {
        "id": "T4TYAD_i_rmo"
      },
      "execution_count": null,
      "outputs": []
    },
    {
      "cell_type": "code",
      "source": [
        "# layer_norm = T5LayerNorm(hidden_size).to(device)\n",
        "# normalized_numbers = layer_norm(random_numbers)\n",
        "# normalized_numbers.shape"
      ],
      "metadata": {
        "id": "LWY8s7Y5HBhQ"
      },
      "execution_count": null,
      "outputs": []
    },
    {
      "cell_type": "markdown",
      "source": [
        "## 2. T5DenseActDense"
      ],
      "metadata": {
        "id": "epMkQpjOWZdE"
      }
    },
    {
      "cell_type": "code",
      "source": [
        "class T5DenseActDense(nn.Module):\n",
        "    def __init__(self, config):\n",
        "        super().__init__()\n",
        "        self.wi = nn.Linear(config.d_model, config.d_ff, bias = False)\n",
        "        self.wo = nn.Linear(config.d_ff, config.d_model, bias = False)\n",
        "        self.dropout = nn.Dropout(config.dropout_rate)\n",
        "        self.act = nn.ReLU()\n",
        "\n",
        "    def forward(self, hidden_states):\n",
        "        hidden_states = self.wi(hidden_states)\n",
        "        hidden_states = self.act(hidden_states)\n",
        "        hidden_states = self.dropout(hidden_states)\n",
        "        if hidden_states.dtype != self.wo.weight.dtype and self.wo.weight.dtype != torch.int8:\n",
        "            hidden_states = hidden_states.to(self.wo.weight.dtype)\n",
        "        hidden_states = self.wo(hidden_states)\n",
        "        return hidden_states"
      ],
      "metadata": {
        "id": "3szXOC69Hy-H"
      },
      "execution_count": null,
      "outputs": []
    },
    {
      "cell_type": "code",
      "source": [
        "# t5_dense_act_dense = T5DenseActDense(t5_config).to(device)\n",
        "# dense_act_dense_output = t5_dense_act_dense(random_numbers)\n",
        "# dense_act_dense_output.shape"
      ],
      "metadata": {
        "id": "BEYEgh7EJWpT"
      },
      "execution_count": null,
      "outputs": []
    },
    {
      "cell_type": "markdown",
      "source": [
        "## 3. T5DenseGatedActDense"
      ],
      "metadata": {
        "id": "OWZdvrxaWbSJ"
      }
    },
    {
      "cell_type": "code",
      "source": [
        "class T5DenseGatedActDense(nn.Module):\n",
        "    def __init__(self, config):\n",
        "        super().__init__()\n",
        "        self.wi_0 = nn.Linear(config.d_model, config.d_ff, bias = False)\n",
        "        self.wi_1 = nn.Linear(config.d_model, config.d_ff, bias = False)\n",
        "        self.wo = nn.Linear(config.d_ff, config.d_model, bias = False)\n",
        "        self.dropout = nn.Dropout(config.dropout_rate)\n",
        "        self.act = nn.ReLU()\n",
        "\n",
        "    def forward(self, hidden_states):\n",
        "        hidden_gelu = self.act(self.wi_0(hidden_states))\n",
        "        hidden_linear = self.wi_1(hidden_states)\n",
        "        hidden_states = hidden_gelu * hidden_linear\n",
        "        hidden_states = self.dropout(hidden_states)\n",
        "        if hidden_states.dtype != self.wo.weight.dtype and self.wo.weight.dtype != torch.int8:\n",
        "            hidden_states = hidden_states.to(self.wo.weight.dtype)\n",
        "        hidden_states = self.wo(hidden_states)\n",
        "        return hidden_states"
      ],
      "metadata": {
        "id": "H9kCmge1JlgF"
      },
      "execution_count": null,
      "outputs": []
    },
    {
      "cell_type": "code",
      "source": [
        "# t5_dense_gate_act_dense = T5DenseGatedActDense(t5_config).to(device)\n",
        "# dense_act_dense_output = t5_dense_act_dense(random_numbers)\n",
        "# dense_act_dense_output.shape"
      ],
      "metadata": {
        "id": "v5whifG_Mbwr"
      },
      "execution_count": null,
      "outputs": []
    },
    {
      "cell_type": "markdown",
      "source": [
        "## 4. T5LayerFF"
      ],
      "metadata": {
        "id": "0pzfXQm5Wd0q"
      }
    },
    {
      "cell_type": "code",
      "source": [
        "class T5LayerFF(nn.Module):\n",
        "    def __init__(self, config):\n",
        "        super().__init__()\n",
        "        if config.is_gated_act:\n",
        "            self.DenseReluDense = T5DenseGatedActDense(config)\n",
        "        else:\n",
        "            self.DenseReluDense = T5DenseActDense(config)\n",
        "        \n",
        "        self.layer_norm = T5LayerNorm(config.d_model, eps = config.layer_norm_epsilon)\n",
        "        self.dropout = nn.Dropout(config.dropout_rate)\n",
        "    \n",
        "    def forward(self, hidden_states):\n",
        "        forwarded_states = self.layer_norm(hidden_states)\n",
        "        forwarded_states = self.DenseReluDense(forwarded_states)\n",
        "        hidden_states = hidden_states + self.dropout(forwarded_states)\n",
        "        return hidden_states"
      ],
      "metadata": {
        "id": "rLxg-7v3MeOM"
      },
      "execution_count": null,
      "outputs": []
    },
    {
      "cell_type": "code",
      "source": [
        "# t5_ff = T5LayerFF(t5_config).to(device)\n",
        "# output = t5_ff(random_numbers)\n",
        "# output.shape"
      ],
      "metadata": {
        "id": "wwzQnhm9NUGT"
      },
      "execution_count": null,
      "outputs": []
    },
    {
      "cell_type": "markdown",
      "source": [
        "## 5. T5Attention"
      ],
      "metadata": {
        "id": "XPhwqb0YWiBz"
      }
    },
    {
      "cell_type": "code",
      "source": [
        "class T5Attention(nn.Module):\n",
        "    def __init__(self, config, has_relative_attention_bias=False):\n",
        "        super().__init__()\n",
        "        self.is_decoder = config.is_decoder\n",
        "        self.has_relative_attention_bias = has_relative_attention_bias\n",
        "        self.relative_attention_num_buckets = config.relative_attention_num_buckets\n",
        "        self.relative_attention_max_distance = config.relative_attention_max_distance\n",
        "        self.d_model = config.d_model\n",
        "        self.key_value_proj_dim = config.d_kv\n",
        "        self.n_heads = config.num_heads\n",
        "        self.dropout = config.dropout_rate\n",
        "        self.inner_dim = self.n_heads * self.key_value_proj_dim\n",
        "\n",
        "        self.q = nn.Linear(self.d_model, self.inner_dim, bias=False)\n",
        "        self.k = nn.Linear(self.d_model, self.inner_dim, bias=False)\n",
        "        self.v = nn.Linear(self.d_model, self.inner_dim, bias=False)\n",
        "        self.o = nn.Linear(self.inner_dim, self.d_model, bias=False)\n",
        "\n",
        "        if self.has_relative_attention_bias:\n",
        "            self.relative_attention_bias = nn.Embedding(\n",
        "                self.relative_attention_num_buckets, self.n_heads)\n",
        "            self.relative_horizontal_bias = nn.Embedding(\n",
        "                self.relative_attention_num_buckets, self.n_heads)\n",
        "            self.relative_vertical_bias = nn.Embedding(\n",
        "                self.relative_attention_num_buckets, self.n_heads)\n",
        "\n",
        "        self.gradient_checkpointing = False\n",
        "\n",
        "    @staticmethod\n",
        "    def _relative_position_bucket(relative_position, bidirectional=True, num_buckets=32, max_distance=128):\n",
        "        \"\"\"\n",
        "        Adapted from Mesh Tensorflow:\n",
        "        https://github.com/tensorflow/mesh/blob/0cb87fe07da627bf0b7e60475d59f95ed6b5be3d/mesh_tensorflow/transformer/transformer_layers.py#L593\n",
        "        Translate relative position to a bucket number for relative attention. The relative position is defined as\n",
        "        memory_position - query_position, i.e. the distance in tokens from the attending position to the attended-to\n",
        "        position. If bidirectional=False, then positive relative positions are invalid. We use smaller buckets for\n",
        "        small absolute relative_position and larger buckets for larger absolute relative_positions. All relative\n",
        "        positions >=max_distance map to the same bucket. All relative positions <=-max_distance map to the same bucket.\n",
        "        This should allow for more graceful generalization to longer sequences than the model has been trained on\n",
        "        Args:\n",
        "            relative_position: an int32 Tensor\n",
        "            bidirectional: a boolean - whether the attention is bidirectional\n",
        "            num_buckets: an integer\n",
        "            max_distance: an integer\n",
        "        Returns:\n",
        "            a Tensor with the same shape as relative_position, containing int32 values in the range [0, num_buckets)\n",
        "        \"\"\"\n",
        "        relative_buckets = 0\n",
        "        if bidirectional:\n",
        "            num_buckets //= 2\n",
        "            relative_buckets += (relative_position >\n",
        "                                 0).to(torch.long) * num_buckets\n",
        "            relative_position = torch.abs(relative_position)\n",
        "        else:\n",
        "            relative_position = - \\\n",
        "                torch.min(relative_position,\n",
        "                          torch.zeros_like(relative_position))\n",
        "        # now relative_position is in the range [0, inf)\n",
        "\n",
        "        # half of the buckets are for exact increments in positions\n",
        "        max_exact = num_buckets // 2\n",
        "        is_small = relative_position < max_exact\n",
        "\n",
        "        # The other half of the buckets are for logarithmically bigger bins in positions up to max_distance\n",
        "        relative_position_if_large = max_exact + (\n",
        "            torch.log(relative_position.float() / max_exact)\n",
        "            / math.log(max_distance / max_exact)\n",
        "            * (num_buckets - max_exact)\n",
        "        ).to(torch.long)\n",
        "        relative_position_if_large = torch.min(\n",
        "            relative_position_if_large, torch.full_like(\n",
        "                relative_position_if_large, num_buckets - 1)\n",
        "        )\n",
        "\n",
        "        relative_buckets += torch.where(is_small,\n",
        "                                        relative_position, relative_position_if_large)\n",
        "        return relative_buckets\n",
        "\n",
        "    def compute_bias_1d(self, query_length, key_length, device=None):\n",
        "        \"\"\"Compute binned relative position bias\"\"\"\n",
        "        if device is None:\n",
        "            device = self.relative_attention_bias.weight.device\n",
        "        context_position = torch.arange(\n",
        "            query_length, dtype=torch.long, device=device)[:, None]\n",
        "        memory_position = torch.arange(\n",
        "            key_length, dtype=torch.long, device=device)[None, :]\n",
        "        relative_position = memory_position - \\\n",
        "            context_position  # shape (query_length, key_length)\n",
        "        relative_position_bucket = self._relative_position_bucket(\n",
        "            relative_position,  # shape (query_length, key_length)\n",
        "            bidirectional=(not self.is_decoder),\n",
        "            num_buckets=self.relative_attention_num_buckets,\n",
        "            max_distance=self.relative_attention_max_distance,\n",
        "        )\n",
        "        # shape (query_length, key_length, num_heads)\n",
        "        values = self.relative_attention_bias(relative_position_bucket)\n",
        "        # shape (1, num_heads, query_length, key_length)\n",
        "        values = values.permute([2, 0, 1]).unsqueeze(0)\n",
        "        return values\n",
        "\n",
        "    def compute_vertical_horizontal_bias(self, total_boxes: int = 512, device=None):\n",
        "\n",
        "        denominator_to_divide = total_boxes // self.relative_attention_num_buckets\n",
        "\n",
        "        \"\"\"Compute the vertical and horizontal bias\"\"\"\n",
        "        if device is None:\n",
        "            device = self.relative_attention_bias.weight.device\n",
        "        indices = torch.arange(total_boxes, dtype=torch.long, device=device)\n",
        "        h_distances = (indices % self.relative_attention_num_buckets)[\n",
        "            :, None] - (indices % self.relative_attention_num_buckets)[None, :]\n",
        "        v_distances = (\n",
        "            indices // denominator_to_divide)[:, None] - (indices // denominator_to_divide)[None, :]\n",
        "\n",
        "        h_distances_bucket = self._relative_position_bucket(\n",
        "            h_distances,  # shape (query_length, key_length)\n",
        "            bidirectional=(not self.is_decoder),\n",
        "            num_buckets=self.relative_attention_num_buckets,\n",
        "            max_distance=self.relative_attention_max_distance,\n",
        "        )\n",
        "\n",
        "        v_distances_bucket = self._relative_position_bucket(\n",
        "            v_distances,  # shape (query_length, key_length)\n",
        "            bidirectional=(not self.is_decoder),\n",
        "            num_buckets=self.relative_attention_num_buckets,\n",
        "            max_distance=self.relative_attention_max_distance,\n",
        "        )\n",
        "\n",
        "        h_distances_values = self.relative_horizontal_bias(\n",
        "            h_distances_bucket)  # shape (query_length, key_length, num_heads)\n",
        "        h_distances_values = h_distances_values.permute([2, 0, 1]).unsqueeze(\n",
        "            0)  # shape (1, num_heads, query_length, key_length)\n",
        "\n",
        "        v_distances_values = self.relative_vertical_bias(\n",
        "            v_distances_bucket)  # shape (query_length, key_length, num_heads)\n",
        "        v_distances_values = v_distances_values.permute([2, 0, 1]).unsqueeze(\n",
        "            0)  # shape (1, num_heads, query_length, key_length)\n",
        "\n",
        "        return h_distances_values, v_distances_values\n",
        "\n",
        "    def forward(self, hidden_states, mask=None, key_value_states=None, position_bias=None, past_key_value=None, layer_head_mask=None, query_length=None,\n",
        "                use_cache=False, output_attentions=False):\n",
        "        \"\"\"\n",
        "        Self-attention (if key_value_states is None) or attention over source sentence (provided by key_value_states).\n",
        "        \"\"\"\n",
        "        # Input is (batch_size, seq_length, dim)\n",
        "        # Mask is (batch_size, key_length) (non-causal) or (batch_size, key_length, key_length)\n",
        "        # past_key_value[0] is (batch_size, n_heads, q_len - 1, dim_per_head)\n",
        "        batch_size, seq_length = hidden_states.shape[:2]\n",
        "\n",
        "        real_seq_length = seq_length\n",
        "\n",
        "        if past_key_value is not None:\n",
        "            assert(len(past_key_value) ==\n",
        "                   2), f\"past_key_value should have 2 past states: keys and values. Got { len(past_key_value)} past states\"\n",
        "            real_seq_length += past_key_value[0].shape[2] if query_length is None else key_value_states.shape[1]\n",
        "\n",
        "        key_length = real_seq_length if key_value_states is None else key_value_states.shape[\n",
        "            1]\n",
        "\n",
        "        def shape(states):\n",
        "            \"projection\"\n",
        "            return states.view(batch_size, -1, self.n_heads, self.key_value_proj_dim).transpose(1, 2)\n",
        "\n",
        "        def unshape(states):\n",
        "            \"\"\"reshape\"\"\"\n",
        "            return states.transpose(1, 2).contiguous().view(batch_size, -1, self.inner_dim)\n",
        "\n",
        "        def project(hidden_states, proj_layer, key_value_states, past_key_value):\n",
        "            \"\"\"project hidden states correctly to key/query states\"\"\"\n",
        "            if key_value_states is None:\n",
        "                # self-attn\n",
        "                # (batch_size, n_heads, seq_length, dim_per_head)\n",
        "                hidden_states = shape(proj_layer(hidden_states))\n",
        "            elif past_key_value is None:\n",
        "                # cross-attn\n",
        "                # (batch_size, n_heads, seq_length, dim_per_head)\n",
        "                hidden_states = shape(proj_layer(key_value_states))\n",
        "\n",
        "            if past_key_value is not None:\n",
        "                if key_value_states is None:\n",
        "                    # self-attn\n",
        "                    # (batch_size, n_heads, key_length, dim_per_head)\n",
        "                    hidden_states = torch.cat(\n",
        "                        [past_key_value, hidden_states], dim=2)\n",
        "                elif past_key_value.shape[2] != key_value_states.shape[1]:\n",
        "                    # checking that the `sequence_length` of the `past_key_value` is the same as\n",
        "                    # the provided `key_value_states` to support prefix tuning\n",
        "                    # cross-attn\n",
        "                    # (batch_size, n_heads, seq_length, dim_per_head)\n",
        "                    hidden_states = shape(proj_layer(key_value_states))\n",
        "                else:\n",
        "                    # cross-attn\n",
        "                    hidden_states = past_key_value\n",
        "            return hidden_states\n",
        "\n",
        "        # get query states\n",
        "        query_states = shape(self.q(hidden_states))\n",
        "\n",
        "        # get key/value states\n",
        "        key_states = project(hidden_states, self.k, key_value_states,\n",
        "                             past_key_value[0] if past_key_value is not None else None)\n",
        "        value_states = project(hidden_states, self.v, key_value_states,\n",
        "                               past_key_value[0] if past_key_value is not None else None)\n",
        "\n",
        "        # compute score\n",
        "        # equivalent of torch.einsum(\"bnqd,bnkd->bnqk\", query_states, key_states), compatible with onnx op>9\n",
        "        scores = torch.matmul(query_states, key_states.transpose(3, 2))\n",
        "\n",
        "        # Sequential Part\n",
        "        if position_bias is None:\n",
        "            if not self.has_relative_attention_bias:\n",
        "                position_bias = torch.zeros(\n",
        "                    (1, self.n_heads, real_seq_length, key_length), device=scores.device, dtype=scores.dtype\n",
        "                )\n",
        "                if self.gradient_checkpointing and self.training:\n",
        "                    position_bias.requires_grad = True\n",
        "            else:\n",
        "                position_bias = self.compute_bias_1d(\n",
        "                    real_seq_length, key_length, device=scores.device)\n",
        "                h_distances_values, v_distances_values = self.compute_vertical_horizontal_bias(\n",
        "                    total_boxes=real_seq_length, device=scores.device)\n",
        "                position_bias = position_bias + h_distances_values + v_distances_values\n",
        "\n",
        "            # if key and values are already calculated\n",
        "            # we want only the last query position bias\n",
        "            if past_key_value is not None:\n",
        "                position_bias = position_bias[:, :, -hidden_states.size(1):, :]\n",
        "\n",
        "            if mask is not None:\n",
        "                # (batch_size, n_heads, seq_length, key_length)\n",
        "                position_bias = position_bias + mask\n",
        "\n",
        "        position_bias_masked = position_bias  # No pruning right now\n",
        "\n",
        "        scores += position_bias_masked\n",
        "        attn_weights = nn.functional.softmax(scores.float(), dim=-1).type_as(\n",
        "            scores\n",
        "        )  # (batch_size, n_heads, seq_length, key_length)\n",
        "        attn_weights = nn.functional.dropout(\n",
        "            attn_weights, p=self.dropout, training=self.training\n",
        "        )  # (batch_size, n_heads, seq_length, key_length)\n",
        "\n",
        "        # Mask heads if we want to\n",
        "        if layer_head_mask is not None:\n",
        "            attn_weights = attn_weights * layer_head_mask\n",
        "\n",
        "        # (batch_size, seq_length, dim)\n",
        "        attn_output = unshape(torch.matmul(attn_weights, value_states))\n",
        "        attn_output = self.o(attn_output)\n",
        "\n",
        "        present_key_value_state = (key_states, value_states) if (\n",
        "            self.is_decoder and use_cache) else None\n",
        "        outputs = (attn_output,) + \\\n",
        "            (present_key_value_state,) + (position_bias,)\n",
        "\n",
        "        if output_attentions:\n",
        "            outputs = outputs + (attn_weights,)\n",
        "        return outputs"
      ],
      "metadata": {
        "id": "eaUVGi1WOFyM"
      },
      "execution_count": null,
      "outputs": []
    },
    {
      "cell_type": "code",
      "source": [
        "# t5_attn = T5Attention(t5_config, has_relative_attention_bias = True).to(device)\n",
        "# output = t5_attn(random_numbers)"
      ],
      "metadata": {
        "id": "srIK_4PjOOA8"
      },
      "execution_count": null,
      "outputs": []
    },
    {
      "cell_type": "markdown",
      "source": [
        "## 6. T5LayerSelfAttention"
      ],
      "metadata": {
        "id": "cYFkr8_qaZGW"
      }
    },
    {
      "cell_type": "code",
      "source": [
        "class T5LayerSelfAttention(nn.Module):\n",
        "    def __init__(self, config, has_relative_attention_bias = False):\n",
        "        super().__init__()\n",
        "        self.SelfAttention = T5Attention(config, has_relative_attention_bias = has_relative_attention_bias)\n",
        "        self.layer_norm = T5LayerNorm(config.d_model, eps = config.layer_norm_epsilon)\n",
        "        self.dropout = nn.Dropout(config.dropout_rate)\n",
        "\n",
        "    def forward(self, hidden_states, attention_mask = None, position_bias = None, layer_head_mask = None, past_key_value = None, use_cache = False, output_attentions = False):\n",
        "        normed_hidden_states = self.layer_norm(hidden_states)\n",
        "        attention_output = self.SelfAttention(normed_hidden_states, mask = attention_mask, position_bias = position_bias,\n",
        "        layer_head_mask = layer_head_mask, past_key_value = past_key_value, use_cache = use_cache, output_attentions = output_attentions,)\n",
        "        hidden_states = hidden_states + self.dropout(attention_output[0])\n",
        "        outputs = (hidden_states,) + attention_output[1:]  # add attentions if we output them\n",
        "        return outputs"
      ],
      "metadata": {
        "id": "VoSnsiuTXkLw"
      },
      "execution_count": null,
      "outputs": []
    },
    {
      "cell_type": "code",
      "source": [
        "# t5_attn = T5LayerSelfAttention(t5_config, has_relative_attention_bias = True).to(device)\n",
        "# output = t5_attn(random_numbers)"
      ],
      "metadata": {
        "id": "VZBUak0Iacvd"
      },
      "execution_count": null,
      "outputs": []
    },
    {
      "cell_type": "markdown",
      "source": [
        "## 7. T5CrossAttnLayer"
      ],
      "metadata": {
        "id": "En2tFMCQbxG7"
      }
    },
    {
      "cell_type": "code",
      "source": [
        "class T5LayerCrossAttention(nn.Module):\n",
        "    def __init__(self, config):\n",
        "        super().__init__()\n",
        "        self.EncDecAttention = T5Attention(\n",
        "            config, has_relative_attention_bias=False)\n",
        "        self.layer_norm = T5LayerNorm(\n",
        "            config.d_model, eps=config.layer_norm_epsilon)\n",
        "        self.dropout = nn.Dropout(config.dropout_rate)\n",
        "\n",
        "    def forward(self, hidden_states, key_value_states, attention_mask=None, position_bias=None, layer_head_mask=None, past_key_value=None, use_cache=False, query_length=None, output_attentions=False, ):\n",
        "        normed_hidden_states = self.layer_norm(hidden_states)\n",
        "        attention_output = self.EncDecAttention(normed_hidden_states, mask=attention_mask,\n",
        "        key_value_states = key_value_states, position_bias=position_bias,\n",
        "            layer_head_mask=layer_head_mask,\n",
        "            past_key_value=past_key_value,\n",
        "            use_cache=use_cache,\n",
        "            query_length=query_length,\n",
        "            output_attentions=output_attentions,)\n",
        "        layer_output = hidden_states + self.dropout(attention_output[0])\n",
        "        outputs = (layer_output, ) + attention_output[1:] # add attention if we output them\n",
        "        return outputs"
      ],
      "metadata": {
        "id": "fnK8vvWgah0J"
      },
      "execution_count": null,
      "outputs": []
    },
    {
      "cell_type": "code",
      "source": [
        "# t5_attn = T5LayerCrossAttention(t5_config).to(device)\n",
        "# output = t5_attn(random_numbers, random_numbers)"
      ],
      "metadata": {
        "id": "84Fmoelpb4dm"
      },
      "execution_count": null,
      "outputs": []
    },
    {
      "cell_type": "code",
      "source": [
        "class T5Block(nn.Module):\n",
        "    def __init__(self, config, has_relative_attention_bias=False):\n",
        "        super().__init__()\n",
        "        self.is_decoder = config.is_decoder\n",
        "        self.layer = nn.ModuleList()\n",
        "        self.layer.append(T5LayerSelfAttention(\n",
        "            config, has_relative_attention_bias=has_relative_attention_bias))\n",
        "        if self.is_decoder:\n",
        "            self.layer.append(T5LayerCrossAttention(config))\n",
        "\n",
        "        self.layer.append(T5LayerFF(config))\n",
        "\n",
        "    def forward(self, hidden_states, attention_mask=None, position_bias=None, encoder_hidden_states=None,\n",
        "                encoder_attention_mask=None, encoder_decoder_position_bias=None, layer_head_mask=None, cross_attn_layer_head_mask=None,\n",
        "                past_key_value=None, use_cache=False, output_attentions=False, return_dict=True):\n",
        "        \n",
        "        if past_key_value is not None:\n",
        "            expected_num_past_key_values = 2 if encoder_hidden_states is None else 4\n",
        "\n",
        "            if len(past_key_value) != expected_num_past_key_values:\n",
        "                raise ValueError(\n",
        "                    f\"There should be {expected_num_past_key_values} past states. \"\n",
        "                    f\"{'2 (past / key) for cross attention. ' if expected_num_past_key_values == 4 else ''}\"\n",
        "                    f\"Got {len(past_key_value)} past key / value states\"\n",
        "                )\n",
        "\n",
        "            self_attn_past_key_value = past_key_value[:2]\n",
        "            cross_attn_past_key_value = past_key_value[2:]\n",
        "        else:\n",
        "            self_attn_past_key_value, cross_attn_past_key_value = None, None\n",
        "\n",
        "        self_attention_outputs = self.layer[0](\n",
        "            hidden_states,\n",
        "            attention_mask=attention_mask,\n",
        "            position_bias=position_bias,\n",
        "            layer_head_mask=layer_head_mask,\n",
        "            past_key_value=self_attn_past_key_value,\n",
        "            use_cache=use_cache,\n",
        "            output_attentions=output_attentions,\n",
        "        )\n",
        "        hidden_states, present_key_value_state = self_attention_outputs[:2]\n",
        "        attention_outputs = self_attention_outputs[2:]  # Keep self-attention outputs and relative position weights\n",
        "\n",
        "        # clamp inf values to enable fp16 training\n",
        "        if hidden_states.dtype == torch.float16 and torch.isinf(hidden_states).any():\n",
        "            clamp_value = torch.finfo(hidden_states.dtype).max - 1000\n",
        "            hidden_states = torch.clamp(hidden_states, min=-clamp_value, max=clamp_value)\n",
        "\n",
        "        do_cross_attention = self.is_decoder and encoder_hidden_states is not None\n",
        "        if do_cross_attention:\n",
        "            # the actual query length is unknown for cross attention\n",
        "            # if using past key value states. Need to inject it here\n",
        "            if present_key_value_state is not None:\n",
        "                query_length = present_key_value_state[0].shape[2]\n",
        "            else:\n",
        "                query_length = None\n",
        "\n",
        "            cross_attention_outputs = self.layer[1](\n",
        "                hidden_states,\n",
        "                key_value_states=encoder_hidden_states,\n",
        "                attention_mask=encoder_attention_mask,\n",
        "                position_bias=encoder_decoder_position_bias,\n",
        "                layer_head_mask=cross_attn_layer_head_mask,\n",
        "                past_key_value=cross_attn_past_key_value,\n",
        "                query_length=query_length,\n",
        "                use_cache=use_cache,\n",
        "                output_attentions=output_attentions,\n",
        "            )\n",
        "            hidden_states = cross_attention_outputs[0]\n",
        "\n",
        "            # clamp inf values to enable fp16 training\n",
        "            if hidden_states.dtype == torch.float16 and torch.isinf(hidden_states).any():\n",
        "                clamp_value = torch.finfo(hidden_states.dtype).max - 1000\n",
        "                hidden_states = torch.clamp(hidden_states, min=-clamp_value, max=clamp_value)\n",
        "\n",
        "            # Combine self attn and cross attn key value states\n",
        "            if present_key_value_state is not None:\n",
        "                present_key_value_state = present_key_value_state + cross_attention_outputs[1]\n",
        "\n",
        "            # Keep cross-attention outputs and relative position weights\n",
        "            attention_outputs = attention_outputs + cross_attention_outputs[2:]\n",
        "\n",
        "        # Apply Feed Forward layer\n",
        "        hidden_states = self.layer[-1](hidden_states)\n",
        "\n",
        "        # clamp inf values to enable fp16 training\n",
        "        if hidden_states.dtype == torch.float16 and torch.isinf(hidden_states).any():\n",
        "            clamp_value = torch.finfo(hidden_states.dtype).max - 1000\n",
        "            hidden_states = torch.clamp(hidden_states, min=-clamp_value, max=clamp_value)\n",
        "\n",
        "        outputs = (hidden_states,)\n",
        "\n",
        "        if use_cache:\n",
        "            outputs = outputs + (present_key_value_state,) + attention_outputs\n",
        "        else:\n",
        "            outputs = outputs + attention_outputs\n",
        "\n",
        "        return outputs  # hidden-states, present_key_value_states, (self-attention position bias), (self-attention weights), (cross-attention position bias), (cross-attention weights)"
      ],
      "metadata": {
        "id": "4zfJo-CpcAqU"
      },
      "execution_count": null,
      "outputs": []
    },
    {
      "cell_type": "code",
      "source": [
        "t5_attn = T5Block(t5_config, True).to(device)\n",
        "output = t5_attn(random_numbers)"
      ],
      "metadata": {
        "id": "2JOn5gZzrDzL"
      },
      "execution_count": null,
      "outputs": []
    },
    {
      "cell_type": "code",
      "source": [
        "from transformers import AutoModel\n",
        "t5_model = AutoModel.from_pretrained(\"t5-base\").to(device)"
      ],
      "metadata": {
        "id": "mZSWNxoKrVM1",
        "colab": {
          "base_uri": "https://localhost:8080/",
          "height": 49,
          "referenced_widgets": [
            "c158fe986c79415fa245daa9ac3936f8",
            "ad9f63f8ee4b44a69b1563d9fc184f72",
            "96bc76975e104681a4923eb23aa5a392",
            "a32166d2881a4f398ab96ca0ee1a1442",
            "5a178d94f24c4f189f60d93137f51750",
            "ff392e292bbb48659f66f9bfc9d99f53",
            "3342ed2aeec04b9aacd5fc46084de2c8",
            "251a05b7b6b445efb3801e4e449463db",
            "555405d2a9f448b18c22b8f7b7789fd1",
            "5f48bca4113541d0ba4304768bad3a23",
            "2f9a86bdeb514042a05cb026ac2d63e5"
          ]
        },
        "outputId": "7c9075bb-b4cb-4d69-ee8d-91d3e415c389"
      },
      "execution_count": null,
      "outputs": [
        {
          "output_type": "display_data",
          "data": {
            "text/plain": [
              "Downloading pytorch_model.bin:   0%|          | 0.00/892M [00:00<?, ?B/s]"
            ],
            "application/vnd.jupyter.widget-view+json": {
              "version_major": 2,
              "version_minor": 0,
              "model_id": "c158fe986c79415fa245daa9ac3936f8"
            }
          },
          "metadata": {}
        }
      ]
    },
    {
      "cell_type": "code",
      "source": [
        "t5_model.encoder.block[0].layer[0]"
      ],
      "metadata": {
        "colab": {
          "base_uri": "https://localhost:8080/"
        },
        "id": "9xvyWuFosRxE",
        "outputId": "2e0ceb95-e8a5-4202-803d-4c35816b65fc"
      },
      "execution_count": null,
      "outputs": [
        {
          "output_type": "execute_result",
          "data": {
            "text/plain": [
              "T5LayerSelfAttention(\n",
              "  (SelfAttention): T5Attention(\n",
              "    (q): Linear(in_features=768, out_features=768, bias=False)\n",
              "    (k): Linear(in_features=768, out_features=768, bias=False)\n",
              "    (v): Linear(in_features=768, out_features=768, bias=False)\n",
              "    (o): Linear(in_features=768, out_features=768, bias=False)\n",
              "    (relative_attention_bias): Embedding(32, 12)\n",
              "  )\n",
              "  (layer_norm): T5LayerNorm()\n",
              "  (dropout): Dropout(p=0.1, inplace=False)\n",
              ")"
            ]
          },
          "metadata": {},
          "execution_count": 28
        }
      ]
    },
    {
      "cell_type": "code",
      "source": [
        "sum(i.numel() for i in t5_model.parameters()) / 1e6"
      ],
      "metadata": {
        "colab": {
          "base_uri": "https://localhost:8080/"
        },
        "id": "ReJQ1XZQs9Hh",
        "outputId": "90ec7e89-db41-407b-ab44-41fcb06783ac"
      },
      "execution_count": null,
      "outputs": [
        {
          "output_type": "execute_result",
          "data": {
            "text/plain": [
              "222.903552"
            ]
          },
          "metadata": {},
          "execution_count": 29
        }
      ]
    },
    {
      "cell_type": "markdown",
      "source": [
        "## 7. T5Stack"
      ],
      "metadata": {
        "id": "FWKRMcYmHC8S"
      }
    },
    {
      "cell_type": "code",
      "source": [
        "from transformers.models import t5\n",
        "import copy"
      ],
      "metadata": {
        "id": "ccpEFFnGHJvb"
      },
      "execution_count": null,
      "outputs": []
    },
    {
      "cell_type": "code",
      "source": [
        "class T5Stack(t5.modeling_t5.T5Stack):\n",
        "  def __init__(self, config, embed_tokens=None):\n",
        "    super().__init__(config = config, embed_tokens = embed_tokens)\n",
        "    self.block = nn.ModuleList(\n",
        "            [T5Block(config, has_relative_attention_bias=bool(i == 0)) for i in range(config.num_layers)]\n",
        "        )\n",
        "\n",
        "  def forward(\n",
        "        self,\n",
        "        input_ids=None,\n",
        "        attention_mask=None,\n",
        "        encoder_hidden_states=None,\n",
        "        encoder_attention_mask=None,\n",
        "        inputs_embeds=None,\n",
        "        head_mask=None,\n",
        "        cross_attn_head_mask=None,\n",
        "        past_key_values=None,\n",
        "        use_cache=None,\n",
        "        output_attentions=None,\n",
        "        output_hidden_states=None,\n",
        "        return_dict=None,\n",
        "    ):\n",
        "\n",
        "      return super().forward(input_ids = input_ids, attention_mask = attention_mask, encoder_hidden_states = encoder_hidden_states, encoder_attention_mask = encoder_attention_mask,\n",
        "                             inputs_embeds = inputs_embeds, head_mask = head_mask, cross_attn_head_mask = cross_attn_head_mask, past_key_values = past_key_values,\n",
        "                             use_cache = use_cache, output_attentions = output_attentions, output_hidden_states = output_hidden_states, return_dict = return_dict)"
      ],
      "metadata": {
        "id": "FKQu_P1pH89z"
      },
      "execution_count": null,
      "outputs": []
    },
    {
      "cell_type": "code",
      "source": [
        "t5_attn = T5Stack(t5_config).to(device)\n",
        "output = t5_attn(inputs_embeds = random_numbers, use_cache = False)"
      ],
      "metadata": {
        "id": "u6fjvHcJJds4"
      },
      "execution_count": null,
      "outputs": []
    },
    {
      "cell_type": "markdown",
      "source": [
        "## 8. T5Model"
      ],
      "metadata": {
        "id": "t70K-hSIKwO8"
      }
    },
    {
      "cell_type": "code",
      "source": [
        "# class T5Model(t5.modeling_t5.T5Model):\n",
        "#   def __init__(self, config):\n",
        "#     super().__init__(config = config)\n",
        "\n",
        "#     encoder_config = copy.deepcopy(config)\n",
        "#     decoder_config = copy.deepcopy(config)\n",
        "\n",
        "#     self.encoder = T5Stack(encoder_config, self.shared)\n",
        "#     self.decoder = T5Stack(decoder_config, self.shared)\n",
        "\n",
        "#     self.post_init()\n",
        "\n",
        "#   def forward(self, input_ids = None, attention_mask = None, decoder_input_ids = None,\n",
        "#         decoder_attention_mask = None, head_mask = None, decoder_head_mask = None, cross_attn_head_mask = None, encoder_outputs = None,\n",
        "#         past_key_values = None, inputs_embeds = None, decoder_inputs_embeds = None, use_cache = None, output_attentions = None, output_hidden_states = None,\n",
        "#         return_dict = None):\n",
        "    \n",
        "#     return super().forward(input_ids = input_ids, attention_mask = attention_mask, decoder_input_ids = decoder_input_ids, decoder_attention_mask = decoder_attention_mask,\n",
        "#                            head_mask = head_mask, decoder_head_mask = decoder_head_mask, cross_attn_head_mask = cross_attn_head_mask, encoder_outputs = encoder_outputs,\n",
        "#                            past_key_values = past_key_values, inputs_embeds = inputs_embeds, decoder_inputs_embeds = decoder_inputs_embeds, use_cache = use_cache,\n",
        "#                            output_attentions = output_attentions, output_hidden_states = output_hidden_states, return_dict = return_dict)"
      ],
      "metadata": {
        "id": "bWIXgL6OJmbJ"
      },
      "execution_count": null,
      "outputs": []
    },
    {
      "cell_type": "code",
      "source": [
        "class T5Model(t5.modeling_t5.T5Model):\n",
        "  def __init__(self, config):\n",
        "    super().__init__(config = config)\n",
        "\n",
        "    encoder_config = copy.deepcopy(config)\n",
        "    decoder_config = copy.deepcopy(config)\n",
        "\n",
        "    self.encoder = T5Stack(encoder_config, self.shared)\n",
        "    self.decoder = T5Stack(decoder_config, self.shared)\n",
        "\n",
        "    self.post_init()\n",
        "\n",
        "  def forward(self, **kwargs):\n",
        "    \n",
        "    return super().forward(**kwargs)"
      ],
      "metadata": {
        "id": "IzfhSVsfVLbL"
      },
      "execution_count": null,
      "outputs": []
    },
    {
      "cell_type": "code",
      "source": [
        "t5_attn = T5Model(t5_config).to(device)"
      ],
      "metadata": {
        "id": "suphSqiiKNrd"
      },
      "execution_count": null,
      "outputs": []
    },
    {
      "cell_type": "code",
      "source": [
        "output = t5_attn(encoder_outputs = random_numbers,\n",
        "                 decoder_input_ids  = torch.randint(0, 511, (1, 512)).to(device) )"
      ],
      "metadata": {
        "id": "6IXEWQXeL-Ry"
      },
      "execution_count": null,
      "outputs": []
    },
    {
      "cell_type": "markdown",
      "source": [
        "## 9. T5ForConditionalGeneration"
      ],
      "metadata": {
        "id": "wiN-iXHIXaW-"
      }
    },
    {
      "cell_type": "code",
      "source": [
        "class T5ForConditionalGeneration(t5.modeling_t5.T5ForConditionalGeneration):\n",
        "  def __init__(self, config):\n",
        "    super().__init__(config = config)\n",
        "\n",
        "    encoder_config = copy.deepcopy(config)\n",
        "    decoder_config = copy.deepcopy(config)\n",
        "\n",
        "    self.encoder = T5Stack(encoder_config, self.shared)\n",
        "    self.decoder = T5Stack(decoder_config, self.shared)\n",
        "\n",
        "    self.post_init()\n",
        "\n",
        "  def forward(self, **kwargs):\n",
        "    \n",
        "    return super().forward(**kwargs)"
      ],
      "metadata": {
        "id": "cD-8oro9Mq5b"
      },
      "execution_count": null,
      "outputs": []
    },
    {
      "cell_type": "code",
      "source": [
        "t5_attn = T5ForConditionalGeneration(t5_config).to(device)"
      ],
      "metadata": {
        "id": "5HO8VXoRXK-I"
      },
      "execution_count": null,
      "outputs": []
    },
    {
      "cell_type": "code",
      "source": [
        "output = t5_attn(encoder_outputs = random_numbers,\n",
        "                 labels  = torch.randint(0, 511, (1, 512)).to(device) )"
      ],
      "metadata": {
        "id": "I40ny2PVXLWF"
      },
      "execution_count": null,
      "outputs": []
    },
    {
      "cell_type": "code",
      "source": [
        "class T5EncoderModel(t5.modeling_t5.T5ForConditionalGeneration):\n",
        "  def __init__(self, config):\n",
        "    super().__init__(config = config)\n",
        "    self.encoder = T5Stack(config, self.shared)\n",
        "    self.post_init()\n",
        "\n",
        "  def forward(self, **kwargs):\n",
        "    \n",
        "    return super().forward(**kwargs)"
      ],
      "metadata": {
        "id": "FMXl4GxXXRfI"
      },
      "execution_count": null,
      "outputs": []
    },
    {
      "cell_type": "code",
      "source": [
        "t5_attn = T5EncoderModel(t5_config).to(device)"
      ],
      "metadata": {
        "id": "zYtXvUKLYHi5"
      },
      "execution_count": null,
      "outputs": []
    },
    {
      "cell_type": "code",
      "source": [
        "output = t5_attn(input_ids =  torch.randint(0, 511, (1, 512)).to(device), inputs_embeds = random_numbers)  ## Won't work since no decoder involved"
      ],
      "metadata": {
        "id": "zLDUQV-6YHd4"
      },
      "execution_count": null,
      "outputs": []
    },
    {
      "cell_type": "code",
      "source": [],
      "metadata": {
        "id": "DKt_4ucsYQT-"
      },
      "execution_count": null,
      "outputs": []
    }
  ]
}